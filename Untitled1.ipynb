{
 "cells": [
  {
   "cell_type": "code",
   "execution_count": 28,
   "metadata": {},
   "outputs": [
    {
     "name": "stdout",
     "output_type": "stream",
     "text": [
      "['j'] 0 0\n",
      "['j', 'S'] 0 1\n",
      "['j', 'S', 'h'] 1 1\n",
      "['j', 'S', 'h', 'V'] 1 2\n",
      "['j', 'S', 'h', 'V', 'V'] 2 2\n",
      "['j', 'S', 'h', 'V', 'V', 'Z'] 3 2\n",
      "['j', 'S', 'h', 'V', 'V', 'Z', 'M'] 4 2\n",
      "['j', 'S', 'h', 'V', 'V', 'Z', 'M', 'y'] 5 2\n",
      "['j', 'S', 'h', 'V', 'V', 'Z', 'M', 'y', 'g'] 5 3\n",
      "['j', 'S', 'h', 'V', 'V', 'Z', 'M', 'y', 'g', 'D'] 5 4\n",
      "['j', 'S', 'h', 'V', 'V', 'Z', 'M', 'y', 'g', 'D', 'k'] 6 4\n",
      "['j', 'S', 'h', 'V', 'V', 'Z', 'M', 'y', 'g', 'D', 'k', 'S'] 6 5\n",
      "['j', 'S', 'h', 'V', 'V', 'Z', 'M', 'y', 'g', 'D', 'k', 'S', 'J'] 7 5\n",
      "['j', 'S', 'h', 'V', 'V', 'Z', 'M', 'y', 'g', 'D', 'k', 'S', 'J', 'a'] 8 5\n",
      "['j', 'S', 'h', 'V', 'V', 'Z', 'M', 'y', 'g', 'D', 'k', 'S', 'J', 'a', 'K'] 8 6\n",
      "['j', 'S', 'h', 'V', 'V', 'Z', 'M', 'y', 'g', 'D', 'k', 'S', 'J', 'a', 'K', 'd'] 9 6\n",
      "['j', 'S', 'h', 'V', 'V', 'Z', 'M', 'y', 'g', 'D', 'k', 'S', 'J', 'a', 'K', 'd', 'v'] 9 7\n",
      "['j', 'S', 'h', 'V', 'V', 'Z', 'M', 'y', 'g', 'D', 'k', 'S', 'J', 'a', 'K', 'd', 'v', 'q'] 9 8\n",
      "['j', 'S', 'h', 'V', 'V', 'Z', 'M', 'y', 'g', 'D', 'k', 'S', 'J', 'a', 'K', 'd', 'v', 'q', 'u'] 9 9\n"
     ]
    }
   ],
   "source": [
    "\n",
    "import random, string\n",
    "\n",
    "listofletters = []\n",
    "upper, lower = 0, 0\n",
    "x = 0\n",
    "for i in range(100):\n",
    "    while True:\n",
    "        upper, lower = 0, 0\n",
    "        for i in listofletters: \n",
    "            if i.isupper(): \n",
    "                upper += 1\n",
    "            elif i.islower(): \n",
    "                lower += 1\n",
    "        if upper >= 6:\n",
    "            if lower >=6:\n",
    "                break\n",
    "        listofletters.append(random.choice(string.ascii_letters))\n",
    "        print(listofletters,upper,lower)\n",
    "    while upper != lower:\n",
    "        upper, lower = 0, 0\n",
    "        for i in listofletters: \n",
    "            if i.isupper(): \n",
    "                upper += 1\n",
    "            elif i.islower(): \n",
    "                lower += 1\n",
    "        listofletters.append(random.choice(string.ascii_letters))\n",
    "        print(listofletters,upper,lower)\n",
    "    if upper == lower:\n",
    "        \n",
    "    \n",
    "    "
   ]
  },
  {
   "cell_type": "code",
   "execution_count": 44,
   "metadata": {
    "scrolled": true
   },
   "outputs": [
    {
     "name": "stdout",
     "output_type": "stream",
     "text": [
      "Upper case letters: 5\n",
      "Lower case letters: 8\n"
     ]
    }
   ],
   "source": [
    "def Count(str): \n",
    "    upper, lower = 0, 0\n",
    "    for i in range(len(str)): \n",
    "        if str[i].isupper(): \n",
    "            upper += 1\n",
    "        elif str[i].islower(): \n",
    "            lower += 1\n",
    "       \n",
    "    print('Upper case letters:', upper) \n",
    "    print('Lower case letters:', lower) \n",
    "  \n",
    "  \n",
    "# Driver Code \n",
    "str = \"#GeeKs01fOr@gEEks07\"\n",
    "Count(str) "
   ]
  },
  {
   "cell_type": "code",
   "execution_count": 5,
   "metadata": {},
   "outputs": [],
   "source": [
    "for a in range(-2):\n",
    "    for b in range(-4):\n",
    "        print(a)"
   ]
  },
  {
   "cell_type": "code",
   "execution_count": 41,
   "metadata": {},
   "outputs": [
    {
     "name": "stdout",
     "output_type": "stream",
     "text": [
      "a random: ayse\n"
     ]
    }
   ],
   "source": [
    "import random\n",
    "list = ['bat','ece','ayse','mel','berkay','yusa']\n",
    "print('a random:', list[random.randint(0, len(list)-1)])\n",
    "      \n"
   ]
  },
  {
   "cell_type": "code",
   "execution_count": 46,
   "metadata": {
    "scrolled": true
   },
   "outputs": [
    {
     "ename": "ValueError",
     "evalue": "invalid literal for int() with base 10: 'four'",
     "output_type": "error",
     "traceback": [
      "\u001b[1;31m---------------------------------------------------------------------------\u001b[0m",
      "\u001b[1;31mValueError\u001b[0m                                Traceback (most recent call last)",
      "\u001b[1;32m<ipython-input-46-2f24743179af>\u001b[0m in \u001b[0;36m<module>\u001b[1;34m\u001b[0m\n\u001b[1;32m----> 1\u001b[1;33m \u001b[0mint\u001b[0m\u001b[1;33m(\u001b[0m\u001b[1;34m'four'\u001b[0m\u001b[1;33m)\u001b[0m\u001b[1;33m\u001b[0m\u001b[1;33m\u001b[0m\u001b[0m\n\u001b[0m",
      "\u001b[1;31mValueError\u001b[0m: invalid literal for int() with base 10: 'four'"
     ]
    }
   ],
   "source": [
    "int('four')"
   ]
  },
  {
   "cell_type": "code",
   "execution_count": 24,
   "metadata": {},
   "outputs": [
    {
     "data": {
      "text/plain": [
       "['30 17 2020']"
      ]
     },
     "execution_count": 24,
     "metadata": {},
     "output_type": "execute_result"
    }
   ],
   "source": [
    "'30 17 2020'.split('.')"
   ]
  },
  {
   "cell_type": "code",
   "execution_count": 26,
   "metadata": {},
   "outputs": [
    {
     "ename": "TypeError",
     "evalue": "unsupported operand type(s) for /: 'list' and 'int'",
     "output_type": "error",
     "traceback": [
      "\u001b[1;31m---------------------------------------------------------------------------\u001b[0m",
      "\u001b[1;31mTypeError\u001b[0m                                 Traceback (most recent call last)",
      "\u001b[1;32m<ipython-input-26-72650a7322dc>\u001b[0m in \u001b[0;36m<module>\u001b[1;34m\u001b[0m\n\u001b[1;32m----> 1\u001b[1;33m \u001b[1;33m[\u001b[0m\u001b[1;36m12\u001b[0m\u001b[1;33m,\u001b[0m\u001b[1;36m24\u001b[0m\u001b[1;33m]\u001b[0m\u001b[1;33m/\u001b[0m\u001b[1;36m3\u001b[0m\u001b[1;33m\u001b[0m\u001b[1;33m\u001b[0m\u001b[0m\n\u001b[0m",
      "\u001b[1;31mTypeError\u001b[0m: unsupported operand type(s) for /: 'list' and 'int'"
     ]
    }
   ],
   "source": [
    "[12,24]/3"
   ]
  },
  {
   "cell_type": "code",
   "execution_count": null,
   "metadata": {},
   "outputs": [],
   "source": []
  }
 ],
 "metadata": {
  "kernelspec": {
   "display_name": "Python 3",
   "language": "python",
   "name": "python3"
  },
  "language_info": {
   "codemirror_mode": {
    "name": "ipython",
    "version": 3
   },
   "file_extension": ".py",
   "mimetype": "text/x-python",
   "name": "python",
   "nbconvert_exporter": "python",
   "pygments_lexer": "ipython3",
   "version": "3.7.6"
  }
 },
 "nbformat": 4,
 "nbformat_minor": 4
}
