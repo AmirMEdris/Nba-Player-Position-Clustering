{
 "cells": [
  {
   "cell_type": "code",
   "execution_count": 19,
   "metadata": {},
   "outputs": [],
   "source": [
    "from sklearn.decomposition import PCA\n",
    "from sklearn.cluster import KMeans\n",
    "import numpy as np\n",
    "#turning the player data csv into pandas dataframe\n",
    "df = pd.read_csv(\"player_stats.csv\")\n",
    "df = df.drop(labels = 'Rk',axis = 1)\n"
   ]
  },
  {
   "cell_type": "code",
   "execution_count": 20,
   "metadata": {
    "scrolled": true
   },
   "outputs": [
    {
     "data": {
      "text/html": [
       "<div>\n",
       "<style scoped>\n",
       "    .dataframe tbody tr th:only-of-type {\n",
       "        vertical-align: middle;\n",
       "    }\n",
       "\n",
       "    .dataframe tbody tr th {\n",
       "        vertical-align: top;\n",
       "    }\n",
       "\n",
       "    .dataframe thead th {\n",
       "        text-align: right;\n",
       "    }\n",
       "</style>\n",
       "<table border=\"1\" class=\"dataframe\">\n",
       "  <thead>\n",
       "    <tr style=\"text-align: right;\">\n",
       "      <th></th>\n",
       "      <th>Player</th>\n",
       "      <th>Pos</th>\n",
       "      <th>Age</th>\n",
       "      <th>Tm</th>\n",
       "      <th>G</th>\n",
       "      <th>GS</th>\n",
       "      <th>MP</th>\n",
       "      <th>FG</th>\n",
       "      <th>FGA</th>\n",
       "      <th>FG%</th>\n",
       "      <th>...</th>\n",
       "      <th>FT%</th>\n",
       "      <th>ORB</th>\n",
       "      <th>DRB</th>\n",
       "      <th>TRB</th>\n",
       "      <th>AST</th>\n",
       "      <th>STL</th>\n",
       "      <th>BLK</th>\n",
       "      <th>TOV</th>\n",
       "      <th>PF</th>\n",
       "      <th>PTS</th>\n",
       "    </tr>\n",
       "  </thead>\n",
       "  <tbody>\n",
       "    <tr>\n",
       "      <th>0</th>\n",
       "      <td>Steven Adams\\adamsst01</td>\n",
       "      <td>C</td>\n",
       "      <td>26</td>\n",
       "      <td>OKC</td>\n",
       "      <td>63</td>\n",
       "      <td>63</td>\n",
       "      <td>26.7</td>\n",
       "      <td>4.5</td>\n",
       "      <td>7.6</td>\n",
       "      <td>0.592</td>\n",
       "      <td>...</td>\n",
       "      <td>0.582</td>\n",
       "      <td>3.3</td>\n",
       "      <td>6.0</td>\n",
       "      <td>9.3</td>\n",
       "      <td>2.3</td>\n",
       "      <td>0.8</td>\n",
       "      <td>1.1</td>\n",
       "      <td>1.5</td>\n",
       "      <td>1.9</td>\n",
       "      <td>10.9</td>\n",
       "    </tr>\n",
       "  </tbody>\n",
       "</table>\n",
       "<p>1 rows × 29 columns</p>\n",
       "</div>"
      ],
      "text/plain": [
       "                   Player Pos  Age   Tm   G  GS    MP   FG  FGA    FG%  ...  \\\n",
       "0  Steven Adams\\adamsst01   C   26  OKC  63  63  26.7  4.5  7.6  0.592  ...   \n",
       "\n",
       "     FT%  ORB  DRB  TRB  AST  STL  BLK  TOV   PF   PTS  \n",
       "0  0.582  3.3  6.0  9.3  2.3  0.8  1.1  1.5  1.9  10.9  \n",
       "\n",
       "[1 rows x 29 columns]"
      ]
     },
     "execution_count": 20,
     "metadata": {},
     "output_type": "execute_result"
    }
   ],
   "source": [
    "df.head(1)"
   ]
  },
  {
   "cell_type": "code",
   "execution_count": 21,
   "metadata": {},
   "outputs": [],
   "source": [
    "positions = []\n",
    "for i in df['Pos']:\n",
    "    pos = 1 if i[:2] == 'PG' else 2 if 'SG' else 3 if 'SF' else 4 if 'PF' else 5 \n",
    "    positions.append(pos)\n",
    "df = df[['G', 'GS', 'MP', 'FG', 'FGA', 'FG%','3P','3PA','3P%','FT%', 'ORB', 'DRB', 'TRB','AST','STL','BLK','TOV','PF','PTS']]\n",
    "df2 = df\n",
    "\n",
    "df2['positions'] = positions"
   ]
  },
  {
   "cell_type": "code",
   "execution_count": 22,
   "metadata": {},
   "outputs": [],
   "source": [
    "df = df.dropna()\n",
    "df2 = df2.dropna()\n",
    "\n",
    "# kmeans = KMeans(n_clusters=5, random_state=0).fit(df)"
   ]
  },
  {
   "cell_type": "code",
   "execution_count": 28,
   "metadata": {},
   "outputs": [
    {
     "data": {
      "image/png": "[encoded data removed]",
      "text/plain": [
       "<Figure size 432x288 with 1 Axes>"
      ]
     },
     "metadata": {
      "needs_background": "light"
     },
     "output_type": "display_data"
    }
   ],
   "source": [
    "\n",
    " \n",
    "#Load Data\n",
    "\n",
    "pca = PCA(2)\n",
    " \n",
    "#Transform the data\n",
    "df = pca.fit_transform(df)\n",
    " \n",
    "#Initialize the class object\n",
    "kmeans = KMeans(n_clusters= 5)\n",
    " \n",
    "#predict the labels of clusters.\n",
    "label = kmeans.fit_predict(df2)\n",
    " \n",
    "#Getting unique labels\n",
    "u_labels = np.unique(label)\n",
    " \n",
    "#plotting the results:\n",
    "for i in u_labels:\n",
    "    plt.scatter(df[label == i , 0] , df[label == i , 1] , label = i)\n",
    "plt.legend()\n",
    "plt.show()"
   ]
  },
  {
   "cell_type": "code",
   "execution_count": 29,
   "metadata": {},
   "outputs": [
    {
     "data": {
      "text/plain": [
       "array([0.81702668, 0.18297332])"
      ]
     },
     "execution_count": 29,
     "metadata": {},
     "output_type": "execute_result"
    }
   ],
   "source": [
    "pca.explained_variance_ratio_"
   ]
  },
  {
   "cell_type": "code",
   "execution_count": 25,
   "metadata": {},
   "outputs": [
    {
     "data": {
      "text/plain": [
       "array([[ 47.83584188,  -9.84992036],\n",
       "       [ 62.90055077, -10.25598817],\n",
       "       [ 37.99804507, -14.5347125 ],\n",
       "       ...,\n",
       "       [ 50.45617541, -15.7117149 ],\n",
       "       [ 26.60632079,   0.80543049],\n",
       "       [ 55.70796798,  -5.04358614]])"
      ]
     },
     "execution_count": 25,
     "metadata": {},
     "output_type": "execute_result"
    }
   ],
   "source": [
    "df"
   ]
  },
  {
   "cell_type": "code",
   "execution_count": 26,
   "metadata": {},
   "outputs": [
    {
     "data": {
      "text/plain": [
       "array([4, 4, 4, 2, 2, 4, 0, 0, 0, 3, 4, 0, 4, 4, 3, 1, 2, 0, 3, 1, 2, 0,\n",
       "       4, 3, 2, 4, 4, 4, 2, 2, 0, 0, 1, 3, 1, 2, 3, 4, 3, 2, 0, 3, 2, 2,\n",
       "       0, 2, 0, 0, 0, 3, 1, 1, 3, 4, 4, 1, 4, 0, 0, 0, 0, 4, 4, 3, 2, 1,\n",
       "       3, 0, 0, 0, 1, 4, 0, 0, 4, 4, 1, 0, 4, 3, 3, 3, 1, 2, 2, 0, 0, 3,\n",
       "       1, 0, 2, 4, 2, 0, 0, 3, 0, 0, 0, 0, 3, 3, 1, 2, 3, 1, 0, 2, 0, 2,\n",
       "       0, 3, 2, 0, 0, 3, 3, 2, 2, 0, 2, 0, 0, 1, 0, 1, 3, 2, 4, 1, 1, 2,\n",
       "       2, 0, 1, 4, 1, 0, 1, 3, 0, 2, 2, 4, 3, 2, 2, 0, 3, 4, 2, 2, 3, 2,\n",
       "       0, 4, 3, 4, 1, 2, 2, 2, 3, 4, 1, 0, 2, 1, 2, 2, 4, 3, 2, 0, 0, 2,\n",
       "       2, 2, 0, 0, 1, 0, 1, 3, 2, 4, 4, 4, 4, 0, 0, 2, 4, 2, 0, 0, 4, 3,\n",
       "       4, 1, 3, 1, 4, 2, 4, 2, 4, 2, 4, 3, 2, 0, 3, 0, 4, 1, 3, 2, 2, 2,\n",
       "       0, 0, 2, 1, 0, 0, 4, 4, 4, 1, 0, 3, 4, 4, 4, 2, 3, 0, 0, 3, 4, 2,\n",
       "       2, 0, 0, 2, 2, 0, 2, 3, 3, 4, 3, 3, 2, 0, 0, 1, 4, 3, 3, 0, 4, 0,\n",
       "       4, 3, 4, 4, 2, 1, 0, 3, 4, 4, 1, 1, 3, 3, 4, 0, 3, 2, 0, 0, 2, 4,\n",
       "       0, 2, 0, 0, 3, 2, 0, 0, 0, 0, 2, 2, 0, 4, 1, 3, 3, 3, 0, 2, 3, 1,\n",
       "       0, 0, 0, 0, 3, 2, 0, 0, 3, 0, 3, 2, 3, 2, 3, 2, 1, 2, 4, 0, 0, 2,\n",
       "       0, 0, 1, 3, 2, 0, 4, 1, 1, 4, 2, 0, 4, 3, 4, 4, 2, 4, 0, 1, 3, 2,\n",
       "       2, 1, 0, 2, 0, 2, 0, 0, 4, 0, 2, 4, 3, 0, 3, 4, 3, 2, 2, 3, 2, 2,\n",
       "       0, 0, 3, 3, 0, 4, 0, 2, 3, 1, 1, 4, 0, 3, 3, 4, 0, 4, 1, 0, 3, 2,\n",
       "       0, 3, 0, 3, 0, 4, 4, 2, 2, 1, 3, 3, 1, 1, 0, 3, 0, 3, 3, 0, 0, 0,\n",
       "       1, 4, 0, 0, 4, 2, 3, 2, 3, 1, 0, 0, 3, 0, 4, 4, 0, 0, 1, 1, 0, 1,\n",
       "       2, 3, 4, 0, 1, 2, 0, 2, 3, 0, 0, 3, 3, 3, 0, 3, 4, 1, 1, 4, 0, 4,\n",
       "       0, 1, 1, 2, 4, 3, 0, 4, 4, 1, 0, 3, 2, 0, 2, 3, 3, 4, 4, 1, 1, 0,\n",
       "       4, 0, 2, 4, 4, 2, 3, 3, 2, 4, 1, 0, 0, 4, 2, 4, 3, 0, 1, 2, 3, 0,\n",
       "       0, 4, 2, 0, 2, 2, 0, 4, 3, 2, 2, 1, 4, 1, 0, 0, 2, 4, 0, 3, 3, 2,\n",
       "       0, 0, 0, 1, 3, 0, 4, 0, 0, 4, 0, 0, 4, 2, 0, 0, 4, 2, 2, 0, 4, 0,\n",
       "       2, 0, 0, 0, 4, 3, 0, 2, 0, 3, 4, 4, 0, 0, 0, 0, 0, 4, 3, 3, 4, 4,\n",
       "       1, 0, 3, 0, 2, 3, 3, 2, 0, 0, 1, 2, 0, 3, 3, 0, 3, 4, 1, 4])"
      ]
     },
     "execution_count": 26,
     "metadata": {},
     "output_type": "execute_result"
    }
   ],
   "source": [
    "labels"
   ]
  },
  {
   "cell_type": "code",
   "execution_count": null,
   "metadata": {},
   "outputs": [],
   "source": []
  }
 ],
 "metadata": {
  "kernelspec": {
   "display_name": "Python 3",
   "language": "python",
   "name": "python3"
  },
  "language_info": {
   "codemirror_mode": {
    "name": "ipython",
    "version": 3
   },
   "file_extension": ".py",
   "mimetype": "text/x-python",
   "name": "python",
   "nbconvert_exporter": "python",
   "pygments_lexer": "ipython3",
   "version": "3.7.6"
  }
 },
 "nbformat": 4,
 "nbformat_minor": 4
}
